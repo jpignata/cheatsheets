{
 "cells": [
  {
   "cell_type": "code",
   "execution_count": 99,
   "metadata": {},
   "outputs": [],
   "source": [
    "from heapq import heappush, heappop\n",
    "from collections import defaultdict\n",
    "\n",
    "def dijkstra(graph, start, target):\n",
    "    q = [(0, start, ())]\n",
    "    dist = defaultdict(lambda: float('inf'))\n",
    "    dist[start] = 0\n",
    "\n",
    "    while q:\n",
    "        cost, v, path = heappop(q)\n",
    "        path = path + (v,)\n",
    "\n",
    "        if v == target:\n",
    "            return cost, path\n",
    "        \n",
    "        if v in graph:\n",
    "            for w, alt in graph[v]:\n",
    "                alt += cost\n",
    "\n",
    "                if alt < dist[w]:\n",
    "                    dist[w] = alt\n",
    "                    heappush(q, (alt, w, path))\n",
    "\n",
    "    return float('inf'), None"
   ]
  },
  {
   "cell_type": "code",
   "execution_count": 104,
   "metadata": {},
   "outputs": [
    {
     "name": "stdout",
     "output_type": "stream",
     "text": [
      "('A', 'B') (7, ('A', 'B'))\n",
      "('A', 'C') (15, ('A', 'B', 'C'))\n",
      "('A', 'D') (5, ('A', 'D'))\n",
      "('A', 'E') (15, ('A', 'B', 'E'))\n",
      "('A', 'F') (11, ('A', 'D', 'F'))\n",
      "('A', 'G') (22, ('A', 'D', 'F', 'G'))\n",
      "('A', 'H') (25, ('A', 'D', 'F', 'H'))\n",
      "('B', 'C') (8, ('B', 'C'))\n",
      "('B', 'D') (9, ('B', 'D'))\n",
      "('B', 'E') (8, ('B', 'E'))\n",
      "('B', 'F') (15, ('B', 'D', 'F'))\n",
      "('B', 'G') (17, ('B', 'E', 'G'))\n",
      "('B', 'H') (29, ('B', 'D', 'F', 'H'))\n",
      "('C', 'D') (inf, None)\n",
      "('C', 'E') (5, ('C', 'E'))\n",
      "('C', 'F') (13, ('C', 'E', 'F'))\n",
      "('C', 'G') (14, ('C', 'E', 'G'))\n",
      "('C', 'H') (27, ('C', 'E', 'F', 'H'))\n",
      "('D', 'E') (15, ('D', 'E'))\n",
      "('D', 'F') (6, ('D', 'F'))\n",
      "('D', 'G') (17, ('D', 'F', 'G'))\n",
      "('D', 'H') (20, ('D', 'F', 'H'))\n",
      "('E', 'F') (8, ('E', 'F'))\n",
      "('E', 'G') (9, ('E', 'G'))\n",
      "('E', 'H') (22, ('E', 'F', 'H'))\n",
      "('F', 'G') (11, ('F', 'G'))\n",
      "('F', 'H') (14, ('F', 'H'))\n",
      "('G', 'H') (inf, None)\n"
     ]
    }
   ],
   "source": [
    "from itertools import combinations\n",
    "\n",
    "graph = {\n",
    "    'A': [('B', 7), ('D', 5)],\n",
    "    'B': [('C', 8), ('D', 9), ('E', 8)],\n",
    "    'C': [('E', 5)],\n",
    "    'D': [('E', 15), ('F', 6)],\n",
    "    'E': [('F', 8), ('G', 9)],\n",
    "    'F': [('G', 11), ('H', 14)],\n",
    "    'G': [],\n",
    "    'H': []\n",
    "}\n",
    "\n",
    "pairs = combinations(graph, r=2)\n",
    "\n",
    "for start, target in pairs:\n",
    "    print((start, target), dijkstra(graph, start, target))"
   ]
  }
 ],
 "metadata": {
  "kernelspec": {
   "display_name": "Python 3",
   "language": "python",
   "name": "python3"
  },
  "language_info": {
   "codemirror_mode": {
    "name": "ipython",
    "version": 3
   },
   "file_extension": ".py",
   "mimetype": "text/x-python",
   "name": "python",
   "nbconvert_exporter": "python",
   "pygments_lexer": "ipython3",
   "version": "3.9.0"
  }
 },
 "nbformat": 4,
 "nbformat_minor": 4
}
