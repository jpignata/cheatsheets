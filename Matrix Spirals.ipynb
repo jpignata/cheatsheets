{
 "cells": [
  {
   "cell_type": "markdown",
   "metadata": {},
   "source": [
    "# Matrix Spirals"
   ]
  },
  {
   "cell_type": "markdown",
   "metadata": {},
   "source": [
    "## Spiral Ascension\n",
    "\n",
    "https://www.reddit.com/r/dailyprogrammer/comments/6i60lr/20170619_challenge_320_easy_spiral_ascension/"
   ]
  },
  {
   "cell_type": "code",
   "execution_count": 1,
   "metadata": {
    "scrolled": false
   },
   "outputs": [],
   "source": [
    "def pp(grid):\n",
    "    char_width = len(str(max(c for row in grid for c in row))) + 1\n",
    "\n",
    "    for line in grid:\n",
    "        for char in line:\n",
    "            print(str(char).rjust(char_width), end='')\n",
    "\n",
    "        print()\n",
    "\n",
    "        \n",
    "def draw(size, direction=1):\n",
    "    grid = [[0 for _ in range(size)] for _ in range(size)]\n",
    "    x, y = 0, 0\n",
    "    \n",
    "    if direction == 1:\n",
    "        dx, dy = 1, 0\n",
    "    elif direction == -1:\n",
    "        dx, dy = 0, 1\n",
    "\n",
    "    for i in range(1, size * size + 1):\n",
    "        grid[y][x] = i\n",
    "\n",
    "        if any((x+dx < 0, y+dy < 0, x+dx >= size, y+dy >= size)) or grid[y+dy][x+dx]:\n",
    "            if direction == 1:\n",
    "                dx, dy = -dy, dx\n",
    "            elif direction == -1:\n",
    "                dx, dy = dy, -dx\n",
    "\n",
    "        x += dx\n",
    "        y += dy\n",
    "        \n",
    "    pp(grid)"
   ]
  },
  {
   "cell_type": "code",
   "execution_count": 2,
   "metadata": {
    "scrolled": false
   },
   "outputs": [
    {
     "name": "stdout",
     "output_type": "stream",
     "text": [
      "  1  2  3  4  5\n",
      " 16 17 18 19  6\n",
      " 15 24 25 20  7\n",
      " 14 23 22 21  8\n",
      " 13 12 11 10  9\n"
     ]
    }
   ],
   "source": [
    "draw(5)"
   ]
  },
  {
   "cell_type": "code",
   "execution_count": 3,
   "metadata": {},
   "outputs": [
    {
     "name": "stdout",
     "output_type": "stream",
     "text": [
      "  1 16 15 14 13\n",
      "  2 17 24 23 12\n",
      "  3 18 25 22 11\n",
      "  4 19 20 21 10\n",
      "  5  6  7  8  9\n"
     ]
    }
   ],
   "source": [
    "draw(5, -1)"
   ]
  },
  {
   "cell_type": "markdown",
   "metadata": {},
   "source": [
    "## Spiral Ascension: Complex Numbers"
   ]
  },
  {
   "cell_type": "code",
   "execution_count": 10,
   "metadata": {},
   "outputs": [],
   "source": [
    "def draw(size, direction=1):\n",
    "    def pp(cells, size):\n",
    "        char_width = len(str(size)) + 2\n",
    "\n",
    "        for x in range(size):\n",
    "            for y in range(size):\n",
    "                print(cells[complex(x, y)].rjust(char_width), end='')\n",
    "\n",
    "            print()\n",
    "\n",
    "    cells = {}\n",
    "    pos = 0j\n",
    "    num = 1\n",
    "    reps = 1\n",
    "    steps = size\n",
    "    \n",
    "    if direction == 1:\n",
    "        orientation = 0+1j\n",
    "        turn = -1j\n",
    "    else:\n",
    "        orientation = 1+0j\n",
    "        turn = 1j\n",
    "        \n",
    "    while steps:\n",
    "        for rep in range(reps):\n",
    "            for step in range(1, steps + 1):\n",
    "                cells[pos] = str(num)\n",
    "                num += 1\n",
    "\n",
    "                if step == steps:\n",
    "                    orientation *= turn\n",
    "                \n",
    "                pos += orientation\n",
    "\n",
    "        reps = 2\n",
    "        steps -= 1\n",
    "\n",
    "    pp(cells, size)"
   ]
  },
  {
   "cell_type": "code",
   "execution_count": 11,
   "metadata": {},
   "outputs": [
    {
     "name": "stdout",
     "output_type": "stream",
     "text": [
      "  1  2  3  4  5\n",
      " 16 17 18 19  6\n",
      " 15 24 25 20  7\n",
      " 14 23 22 21  8\n",
      " 13 12 11 10  9\n"
     ]
    }
   ],
   "source": [
    "draw(5)"
   ]
  },
  {
   "cell_type": "code",
   "execution_count": 12,
   "metadata": {},
   "outputs": [
    {
     "name": "stdout",
     "output_type": "stream",
     "text": [
      "  1 16 15 14 13\n",
      "  2 17 24 23 12\n",
      "  3 18 25 22 11\n",
      "  4 19 20 21 10\n",
      "  5  6  7  8  9\n"
     ]
    }
   ],
   "source": [
    "draw(5, -1)"
   ]
  },
  {
   "cell_type": "markdown",
   "metadata": {},
   "source": [
    "## Return elements in spiral order\n",
    "\n",
    "https://leetcode.com/problems/spiral-matrix/"
   ]
  },
  {
   "cell_type": "code",
   "execution_count": 7,
   "metadata": {},
   "outputs": [
    {
     "name": "stdout",
     "output_type": "stream",
     "text": [
      "  1  2  3  4  5\n",
      "  6  7  8  9 10\n",
      " 11 12 13 14 15\n",
      " 16 17 18 19 20\n",
      " 21 22 23 24 25\n"
     ]
    }
   ],
   "source": [
    "def gen(size):\n",
    "    return [[i + (size * j) for i in range(1, size + 1)] for j in range(size)]\n",
    "    \n",
    "    \n",
    "def spiral_order(matrix, direction=1):\n",
    "    maxx, maxy = len(matrix[0]), len(matrix)\n",
    "    x, y = 0, 0\n",
    "    output = []\n",
    "\n",
    "    if direction == 1:\n",
    "        dx, dy = 1, 0\n",
    "    elif direction == -1:\n",
    "        dx, dy = 0, 1\n",
    "\n",
    "    while len(output) < maxx * maxy:\n",
    "        output.append(matrix[y][x])\n",
    "\n",
    "        if any((x+dx < 0, y+dy < 0, x+dx >= maxx, y+dy >= maxy)) or matrix[y+dy][x+dx] in output:\n",
    "            if direction == 1:\n",
    "                dx, dy = -dy, dx\n",
    "            elif direction == -1:\n",
    "                dx, dy = dy, -dx\n",
    "\n",
    "        x += dx\n",
    "        y += dy\n",
    "\n",
    "    return output\n",
    "\n",
    "matrix = gen(5)\n",
    "\n",
    "pp(matrix)"
   ]
  },
  {
   "cell_type": "code",
   "execution_count": 8,
   "metadata": {},
   "outputs": [
    {
     "name": "stdout",
     "output_type": "stream",
     "text": [
      "[1, 2, 3, 4, 5, 10, 15, 20, 25, 24, 23, 22, 21, 16, 11, 6, 7, 8, 9, 14, 19, 18, 17, 12, 13]\n"
     ]
    }
   ],
   "source": [
    "print(spiral_order(matrix))"
   ]
  },
  {
   "cell_type": "code",
   "execution_count": 9,
   "metadata": {},
   "outputs": [
    {
     "name": "stdout",
     "output_type": "stream",
     "text": [
      "[1, 6, 11, 16, 21, 22, 23, 24, 25, 20, 15, 10, 5, 4, 3, 2, 7, 12, 17, 18, 19, 14, 9, 8, 13]\n"
     ]
    }
   ],
   "source": [
    "print(spiral_order(matrix, -1))"
   ]
  }
 ],
 "metadata": {
  "kernelspec": {
   "display_name": "Python 3",
   "language": "python",
   "name": "python3"
  },
  "language_info": {
   "codemirror_mode": {
    "name": "ipython",
    "version": 3
   },
   "file_extension": ".py",
   "mimetype": "text/x-python",
   "name": "python",
   "nbconvert_exporter": "python",
   "pygments_lexer": "ipython3",
   "version": "3.9.0+"
  }
 },
 "nbformat": 4,
 "nbformat_minor": 4
}
