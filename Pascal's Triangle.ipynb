{
 "cells": [
  {
   "cell_type": "markdown",
   "metadata": {},
   "source": [
    "# Pascal's Triangle\n",
    "\n",
    "Each entry is derived by adding the number above and to the left with the number above and to the right. Assuming we start with a single 1 in row 0, and we can construct this by calculating each row from the previous one."
   ]
  },
  {
   "cell_type": "code",
   "execution_count": 139,
   "metadata": {},
   "outputs": [
    {
     "name": "stdout",
     "output_type": "stream",
     "text": [
      "[1]\n",
      "[1, 1]\n",
      "[1, 2, 1]\n",
      "[1, 3, 3, 1]\n",
      "[1, 4, 6, 4, 1]\n",
      "[1, 5, 10, 10, 5, 1]\n",
      "[1, 6, 15, 20, 15, 6, 1]\n",
      "[1, 7, 21, 35, 35, 21, 7, 1]\n",
      "[1, 8, 28, 56, 70, 56, 28, 8, 1]\n",
      "[1, 9, 36, 84, 126, 126, 84, 36, 9, 1]\n",
      "[1, 10, 45, 120, 210, 252, 210, 120, 45, 10, 1]\n",
      "[1, 11, 55, 165, 330, 462, 462, 330, 165, 55, 11, 1]\n",
      "[1, 12, 66, 220, 495, 792, 924, 792, 495, 220, 66, 12, 1]\n",
      "[1, 13, 78, 286, 715, 1287, 1716, 1716, 1287, 715, 286, 78, 13, 1]\n",
      "[1, 14, 91, 364, 1001, 2002, 3003, 3432, 3003, 2002, 1001, 364, 91, 14, 1]\n"
     ]
    }
   ],
   "source": [
    "def build(size):\n",
    "    for i in range(size):\n",
    "        row = []\n",
    "        \n",
    "        for j in range(i + 1):\n",
    "            if j == 0 or j == i:\n",
    "                row.append(1)\n",
    "            else:\n",
    "                row.append(prev[j - 1] + prev[j])\n",
    "                \n",
    "        yield row\n",
    "        \n",
    "        prev = row\n",
    "\n",
    "\n",
    "for row in build(15):\n",
    "    print(row)"
   ]
  },
  {
   "cell_type": "markdown",
   "metadata": {},
   "source": [
    "In this approach the previous row is retained to compute the next. Each cell of Pascal's Triangle can be calculated by the number of combinations of `y` things `x` ways.\n",
    "\n",
    "\n",
    "For example, to calculate cell `(8, 10)`, we can use the formula for combinations: `y! / (x! * (y - x)!)`"
   ]
  },
  {
   "cell_type": "code",
   "execution_count": 122,
   "metadata": {},
   "outputs": [
    {
     "data": {
      "text/plain": [
       "45.0"
      ]
     },
     "execution_count": 122,
     "metadata": {},
     "output_type": "execute_result"
    }
   ],
   "source": [
    "from math import factorial\n",
    "\n",
    "def combinations(y, x):\n",
    "    return factorial(y) / (factorial(x) * factorial(y - x))\n",
    "\n",
    "combinations(10, 8)"
   ]
  },
  {
   "cell_type": "markdown",
   "metadata": {},
   "source": [
    "The 8th item of the 10th row is 45. In Python 3.8, `math.comb` does this work for us."
   ]
  },
  {
   "cell_type": "code",
   "execution_count": 118,
   "metadata": {},
   "outputs": [
    {
     "data": {
      "text/plain": [
       "45"
      ]
     },
     "execution_count": 118,
     "metadata": {},
     "output_type": "execute_result"
    }
   ],
   "source": [
    "from math import comb\n",
    "\n",
    "comb(10, 8)"
   ]
  },
  {
   "cell_type": "code",
   "execution_count": 138,
   "metadata": {},
   "outputs": [
    {
     "name": "stdout",
     "output_type": "stream",
     "text": [
      "[1]\n",
      "[1, 1]\n",
      "[1, 2, 1]\n",
      "[1, 3, 3, 1]\n",
      "[1, 4, 6, 4, 1]\n",
      "[1, 5, 10, 10, 5, 1]\n",
      "[1, 6, 15, 20, 15, 6, 1]\n",
      "[1, 7, 21, 35, 35, 21, 7, 1]\n",
      "[1, 8, 28, 56, 70, 56, 28, 8, 1]\n",
      "[1, 9, 36, 84, 126, 126, 84, 36, 9, 1]\n",
      "[1, 10, 45, 120, 210, 252, 210, 120, 45, 10, 1]\n",
      "[1, 11, 55, 165, 330, 462, 462, 330, 165, 55, 11, 1]\n",
      "[1, 12, 66, 220, 495, 792, 924, 792, 495, 220, 66, 12, 1]\n",
      "[1, 13, 78, 286, 715, 1287, 1716, 1716, 1287, 715, 286, 78, 13, 1]\n",
      "[1, 14, 91, 364, 1001, 2002, 3003, 3432, 3003, 2002, 1001, 364, 91, 14, 1]\n"
     ]
    }
   ],
   "source": [
    "def build(size):\n",
    "    for i in range(size):\n",
    "        yield [comb(i, j) for j in range(i + 1)] \n",
    "            \n",
    "\n",
    "for row in build(15):\n",
    "    print(row)"
   ]
  },
  {
   "cell_type": "markdown",
   "metadata": {},
   "source": [
    "That returns the same result. It still requires two loops, but no additional storage.\n",
    "\n",
    "Let's make this look... triangle-y:"
   ]
  },
  {
   "cell_type": "code",
   "execution_count": 137,
   "metadata": {},
   "outputs": [
    {
     "name": "stdout",
     "output_type": "stream",
     "text": [
      "                                                    1                                               \n",
      "                                                 1     1                                            \n",
      "                                              1     2     1                                         \n",
      "                                           1     3     3     1                                      \n",
      "                                        1     4     6     4     1                                   \n",
      "                                     1     5    10    10     5     1                                \n",
      "                                  1     6    15    20    15     6     1                             \n",
      "                               1     7    21    35    35    21     7     1                          \n",
      "                            1     8    28    56    70    56    28     8     1                       \n",
      "                         1     9    36    84   126   126    84    36     9     1                    \n",
      "                      1    10    45   120   210   252   210   120    45    10     1                 \n",
      "                   1    11    55   165   330   462   462   330   165    55    11     1              \n",
      "                1    12    66   220   495   792   924   792   495   220    66    12     1           \n",
      "             1    13    78   286   715  1287  1716  1716  1287   715   286    78    13     1        \n",
      "          1    14    91   364  1001  2002  3003  3432  3003  2002  1001   364    91    14     1     \n"
     ]
    }
   ],
   "source": [
    "for row in build(15):\n",
    "    display = ''.join([str(i).rjust(6) for i in row])\n",
    "    print(display.center(100))"
   ]
  }
 ],
 "metadata": {
  "kernelspec": {
   "display_name": "Python 3",
   "language": "python",
   "name": "python3"
  },
  "language_info": {
   "codemirror_mode": {
    "name": "ipython",
    "version": 3
   },
   "file_extension": ".py",
   "mimetype": "text/x-python",
   "name": "python",
   "nbconvert_exporter": "python",
   "pygments_lexer": "ipython3",
   "version": "3.9.0+"
  }
 },
 "nbformat": 4,
 "nbformat_minor": 4
}
