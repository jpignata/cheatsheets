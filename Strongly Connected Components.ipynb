{
 "cells": [
  {
   "cell_type": "markdown",
   "metadata": {},
   "source": [
    "# Strongly Connected Components\n",
    "\n",
    "Groups in a directed graph are said to be [strongly connected](https://en.wikipedia.org/wiki/Strongly_connected_component) if there exists a path between each node in the group.\n",
    "\n",
    "In the graph below, there are three strongly connected components: `a b e`, `f g`, and `c d h`.\n",
    "\n"
   ]
  },
  {
   "cell_type": "markdown",
   "metadata": {},
   "source": [
    "<img width=\"100%\" height=\"100%\" src=\"images/scc_graph.png\">"
   ]
  },
  {
   "cell_type": "code",
   "execution_count": 1,
   "metadata": {},
   "outputs": [],
   "source": [
    "graph = {'a': ['b'],\n",
    "         'b': ['c', 'e', 'f'],\n",
    "         'c': ['d', 'g'],\n",
    "         'd': ['c', 'h'],\n",
    "         'e': ['a', 'f'],\n",
    "         'f': ['g'],\n",
    "         'g': ['f'],\n",
    "         'h': ['d', 'g']}"
   ]
  },
  {
   "cell_type": "markdown",
   "metadata": {},
   "source": [
    "## Kosaraju's algorithm\n",
    "\n",
    "[Wikipedia](https://en.wikipedia.org/wiki/Kosaraju%27s_algorithm) | [NetworkX Implementation](https://networkx.org/documentation/stable/_modules/networkx/algorithms/components/strongly_connected.html#kosaraju_strongly_connected_components)"
   ]
  },
  {
   "cell_type": "code",
   "execution_count": 2,
   "metadata": {},
   "outputs": [
    {
     "data": {
      "text/plain": [
       "[{'a', 'b', 'e'}, {'c', 'd', 'h'}, {'f', 'g'}]"
      ]
     },
     "execution_count": 2,
     "metadata": {},
     "output_type": "execute_result"
    }
   ],
   "source": [
    "from collections import defaultdict\n",
    "\n",
    "\n",
    "def components(graph):\n",
    "    transposed = defaultdict(list)\n",
    "    \n",
    "    for u in graph:\n",
    "        for v in graph[u]:\n",
    "            transposed[v].append(u)\n",
    "\n",
    "    visited = set()\n",
    "    nodes = []\n",
    "    components = defaultdict(set)\n",
    "    \n",
    "    def visit(u):\n",
    "        if u not in visited:\n",
    "            visited.add(u)\n",
    "            \n",
    "            for v in graph[u]:\n",
    "                visit(v)\n",
    "\n",
    "            nodes.insert(0, u)\n",
    "                \n",
    "    for u in graph:\n",
    "        visit(u)\n",
    "    \n",
    "    def assign(u, root):\n",
    "        if u in visited:\n",
    "            visited.remove(u)\n",
    "            \n",
    "            components[root].add(u)\n",
    "\n",
    "            for v in transposed[u]:\n",
    "                assign(v, root)      \n",
    "       \n",
    "    for u in nodes:\n",
    "        assign(u, u)\n",
    "        \n",
    "    return list(components.values())\n",
    "\n",
    "\n",
    "components(graph)"
   ]
  },
  {
   "cell_type": "code",
   "execution_count": 3,
   "metadata": {},
   "outputs": [],
   "source": [
    "import networkx as nx\n",
    "\n",
    "\n",
    "def nx_components(graph):\n",
    "    graph = nx.DiGraph(graph)\n",
    "\n",
    "    return list(nx.kosaraju_strongly_connected_components(graph))\n",
    "\n",
    "\n",
    "mine = components(graph)\n",
    "reference = nx_components(graph)\n",
    "\n",
    "assert len(mine) == len(reference)\n",
    "\n",
    "for component in mine:\n",
    "    assert component in reference"
   ]
  },
  {
   "cell_type": "markdown",
   "metadata": {},
   "source": [
    "## Tarjan's strongly connected components algorithm\n",
    "\n",
    "[Wikipedia](https://en.wikipedia.org/wiki/Tarjan%27s_strongly_connected_components_algorithm) | [NetworkX Implementation](https://networkx.org/documentation/stable/_modules/networkx/algorithms/components/strongly_connected.html#strongly_connected_components)"
   ]
  },
  {
   "cell_type": "code",
   "execution_count": 4,
   "metadata": {},
   "outputs": [
    {
     "data": {
      "text/plain": [
       "[{'f', 'g'}, {'c', 'd', 'h'}, {'a', 'b', 'e'}]"
      ]
     },
     "execution_count": 4,
     "metadata": {},
     "output_type": "execute_result"
    }
   ],
   "source": [
    "def components(graph):\n",
    "    index = 0            \n",
    "    indexes = {}\n",
    "    low_links = {}\n",
    "    stack = []\n",
    "    components = []\n",
    "\n",
    "    def dfs(u):\n",
    "        nonlocal index\n",
    "        \n",
    "        indexes[u] = low_links[u] = index\n",
    "        index += 1\n",
    "\n",
    "        stack.append(u)\n",
    "        \n",
    "        for v in graph[u]:\n",
    "            if v not in indexes:\n",
    "                dfs(v)\n",
    "                low_links[u] = min(low_links[u], low_links[v])\n",
    "            elif v in stack:\n",
    "                low_links[u] = min(low_links[u], indexes[v])\n",
    "                \n",
    "        if low_links[u] == indexes[u]:\n",
    "            component = set()\n",
    "            v = None\n",
    "\n",
    "            while v != u:\n",
    "                component.add(v := stack.pop())\n",
    "\n",
    "            components.append(component)\n",
    "            \n",
    "    for u in graph:\n",
    "        if u not in indexes:\n",
    "            dfs(u)\n",
    "            \n",
    "    return components\n",
    "\n",
    "\n",
    "components(graph)"
   ]
  },
  {
   "cell_type": "code",
   "execution_count": 5,
   "metadata": {},
   "outputs": [],
   "source": [
    "import networkx as nx\n",
    "\n",
    "\n",
    "def nx_components(graph):\n",
    "    graph = nx.DiGraph(graph)\n",
    "        \n",
    "    return list(nx.strongly_connected_components(graph))\n",
    "\n",
    "\n",
    "mine = components(graph)\n",
    "reference = nx_components(graph)\n",
    "\n",
    "assert len(mine) == len(reference)\n",
    "\n",
    "for component in mine:\n",
    "    assert component in reference"
   ]
  }
 ],
 "metadata": {
  "kernelspec": {
   "display_name": "Python 3",
   "language": "python",
   "name": "python3"
  },
  "language_info": {
   "codemirror_mode": {
    "name": "ipython",
    "version": 3
   },
   "file_extension": ".py",
   "mimetype": "text/x-python",
   "name": "python",
   "nbconvert_exporter": "python",
   "pygments_lexer": "ipython3",
   "version": "3.9.0+"
  }
 },
 "nbformat": 4,
 "nbformat_minor": 4
}
