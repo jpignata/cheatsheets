{
 "cells": [
  {
   "cell_type": "markdown",
   "metadata": {},
   "source": [
    "# Strongly Connected Components\n",
    "\n",
    "Groups in a directed graph are said to be [strongly connected](https://en.wikipedia.org/wiki/Strongly_connected_component) if there exists a path between each node in the group. In the graph below, there are three strongly connected components: `a b e`, `f g`, and `c d h`."
   ]
  },
  {
   "cell_type": "markdown",
   "metadata": {},
   "source": [
    "<img width=\"100%\" height=\"100%\" src=\"images/scc_graph.png\">"
   ]
  },
  {
   "cell_type": "markdown",
   "metadata": {},
   "source": [
    "## Kosaraju's algorithm\n",
    "\n",
    "https://en.wikipedia.org/wiki/Kosaraju%27s_algorithm"
   ]
  },
  {
   "cell_type": "code",
   "execution_count": 1,
   "metadata": {},
   "outputs": [
    {
     "data": {
      "text/plain": [
       "[['h', 'd', 'c'], ['b', 'e', 'a'], ['g', 'f']]"
      ]
     },
     "execution_count": 1,
     "metadata": {},
     "output_type": "execute_result"
    }
   ],
   "source": [
    "from collections import defaultdict\n",
    "\n",
    "\n",
    "def components(edges):\n",
    "    graph = defaultdict(list)\n",
    "    transposed = defaultdict(list)\n",
    "    \n",
    "    for v, w in edges:\n",
    "        graph[v].append(w)\n",
    "        transposed[w].append(v)\n",
    "\n",
    "    visited = set()\n",
    "    components = defaultdict(list)\n",
    "    nodes = []\n",
    "    \n",
    "    def visit(v):\n",
    "        if v not in visited:\n",
    "            visited.add(v)\n",
    "            \n",
    "            for w in graph[v]:\n",
    "                visit(w)\n",
    "\n",
    "            nodes.insert(0, v)\n",
    "    \n",
    "    for v in graph:\n",
    "        visit(v)\n",
    "\n",
    "    def assign(v, root):\n",
    "        if v in visited:\n",
    "            visited.remove(v)\n",
    "                        \n",
    "            for w in transposed[v]:\n",
    "                assign(w, root)      \n",
    "\n",
    "            components[root].append(v)\n",
    "       \n",
    "    for v in nodes:\n",
    "        assign(v, v)\n",
    "        \n",
    "    return [components[root] for root in components]\n",
    "\n",
    "components([('a', 'b'), ('b', 'e'), ('e', 'a'), ('b', 'f'), ('f', 'g'), ('g', 'f'),\n",
    "            ('c', 'g'), ('c', 'd'), ('d', 'c'), ('d', 'h'), ('h', 'd'), ('e', 'f')])"
   ]
  },
  {
   "cell_type": "markdown",
   "metadata": {},
   "source": [
    "## Tarjan's strongly connected components algorithm\n",
    "\n",
    "https://en.wikipedia.org/wiki/Tarjan%27s_strongly_connected_components_algorithm"
   ]
  },
  {
   "cell_type": "code",
   "execution_count": 2,
   "metadata": {},
   "outputs": [
    {
     "data": {
      "text/plain": [
       "[['g', 'f'], ['e', 'b', 'a'], ['h', 'd', 'c']]"
      ]
     },
     "execution_count": 2,
     "metadata": {},
     "output_type": "execute_result"
    }
   ],
   "source": [
    "from collections import defaultdict\n",
    "\n",
    "\n",
    "def components(edges):\n",
    "    graph = defaultdict(list)\n",
    "    \n",
    "    for v, w in edges:\n",
    "        graph[v].append(w)\n",
    "\n",
    "    index = 0            \n",
    "    indexes = {}\n",
    "    low_links = {}\n",
    "    stack = []\n",
    "    components = []\n",
    "\n",
    "    def dfs(v):\n",
    "        nonlocal index\n",
    "        \n",
    "        indexes[v] = low_links[v] = index\n",
    "        index += 1\n",
    "\n",
    "        stack.append(v)\n",
    "        \n",
    "        for w in graph[v]:\n",
    "            if w not in indexes:\n",
    "                dfs(w)\n",
    "                low_links[v] = min(low_links[v], low_links[w])\n",
    "            elif w in stack:\n",
    "                low_links[v] = min(low_links[v], indexes[w])\n",
    "                \n",
    "        if low_links[v] == indexes[v]:\n",
    "            component = []\n",
    "\n",
    "            while stack:\n",
    "                component.append(w := stack.pop())\n",
    "\n",
    "                if w == v:\n",
    "                    break\n",
    "\n",
    "            components.append(component)\n",
    "            \n",
    "    for v in dict(graph):\n",
    "        if v not in indexes:\n",
    "            dfs(v)\n",
    "            \n",
    "    return components\n",
    "\n",
    "\n",
    "components([('a', 'b'), ('b', 'e'), ('e', 'a'), ('b', 'f'), ('f', 'g'), ('g', 'f'),\n",
    "            ('c', 'g'), ('c', 'd'), ('d', 'c'), ('d', 'h'), ('h', 'd'), ('e', 'f')])"
   ]
  }
 ],
 "metadata": {
  "kernelspec": {
   "display_name": "Python 3",
   "language": "python",
   "name": "python3"
  },
  "language_info": {
   "codemirror_mode": {
    "name": "ipython",
    "version": 3
   },
   "file_extension": ".py",
   "mimetype": "text/x-python",
   "name": "python",
   "nbconvert_exporter": "python",
   "pygments_lexer": "ipython3",
   "version": "3.9.0"
  }
 },
 "nbformat": 4,
 "nbformat_minor": 4
}
