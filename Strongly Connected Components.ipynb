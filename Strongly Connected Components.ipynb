{
 "cells": [
  {
   "cell_type": "markdown",
   "metadata": {},
   "source": [
    "# Strongly Connected Components\n",
    "\n",
    "Groups in a directed graph are said to be [strongly connected](https://en.wikipedia.org/wiki/Strongly_connected_component) if there exists a path between each node in the group.\n",
    "\n",
    "In the graph below, there are three strongly connected components: `a b e`, `f g`, and `c d h`.\n",
    "\n"
   ]
  },
  {
   "cell_type": "markdown",
   "metadata": {},
   "source": [
    "<img width=\"100%\" height=\"100%\" src=\"images/scc_graph.png\">"
   ]
  },
  {
   "cell_type": "code",
   "execution_count": 1,
   "metadata": {},
   "outputs": [],
   "source": [
    "graph = {'a': ['b'],\n",
    "         'b': ['c', 'e', 'f'],\n",
    "         'c': ['d', 'g'],\n",
    "         'd': ['c', 'h'],\n",
    "         'e': ['a', 'f'],\n",
    "         'f': ['g'],\n",
    "         'g': ['f'],\n",
    "         'h': ['d', 'g']}"
   ]
  },
  {
   "cell_type": "markdown",
   "metadata": {},
   "source": [
    "## Kosaraju's algorithm\n",
    "\n",
    "[Wikipedia](https://en.wikipedia.org/wiki/Kosaraju%27s_algorithm) | [NetworkX Implementation](https://networkx.org/documentation/stable/_modules/networkx/algorithms/components/strongly_connected.html#kosaraju_strongly_connected_components)"
   ]
  },
  {
   "cell_type": "code",
   "execution_count": 6,
   "metadata": {},
   "outputs": [
    {
     "ename": "KeyError",
     "evalue": "'b'",
     "output_type": "error",
     "traceback": [
      "\u001b[0;31m---------------------------------------------------------------------------\u001b[0m",
      "\u001b[0;31mKeyError\u001b[0m                                  Traceback (most recent call last)",
      "\u001b[0;32m<ipython-input-6-e990e1378ac1>\u001b[0m in \u001b[0;36m<module>\u001b[0;34m\u001b[0m\n\u001b[1;32m     42\u001b[0m \u001b[0;34m\u001b[0m\u001b[0m\n\u001b[1;32m     43\u001b[0m \u001b[0;34m\u001b[0m\u001b[0m\n\u001b[0;32m---> 44\u001b[0;31m \u001b[0mcomponents\u001b[0m\u001b[0;34m(\u001b[0m\u001b[0mgraph\u001b[0m\u001b[0;34m)\u001b[0m\u001b[0;34m\u001b[0m\u001b[0;34m\u001b[0m\u001b[0m\n\u001b[0m",
      "\u001b[0;32m<ipython-input-6-e990e1378ac1>\u001b[0m in \u001b[0;36mcomponents\u001b[0;34m(graph)\u001b[0m\n\u001b[1;32m      8\u001b[0m     \u001b[0;32mfor\u001b[0m \u001b[0mv\u001b[0m \u001b[0;32min\u001b[0m \u001b[0mgraph\u001b[0m\u001b[0;34m:\u001b[0m\u001b[0;34m\u001b[0m\u001b[0;34m\u001b[0m\u001b[0m\n\u001b[1;32m      9\u001b[0m         \u001b[0;32mfor\u001b[0m \u001b[0mw\u001b[0m \u001b[0;32min\u001b[0m \u001b[0mgraph\u001b[0m\u001b[0;34m[\u001b[0m\u001b[0mv\u001b[0m\u001b[0;34m]\u001b[0m\u001b[0;34m:\u001b[0m\u001b[0;34m\u001b[0m\u001b[0;34m\u001b[0m\u001b[0m\n\u001b[0;32m---> 10\u001b[0;31m             \u001b[0mtransposed\u001b[0m\u001b[0;34m[\u001b[0m\u001b[0mw\u001b[0m\u001b[0;34m]\u001b[0m\u001b[0;34m.\u001b[0m\u001b[0mappend\u001b[0m\u001b[0;34m(\u001b[0m\u001b[0mv\u001b[0m\u001b[0;34m)\u001b[0m\u001b[0;34m\u001b[0m\u001b[0;34m\u001b[0m\u001b[0m\n\u001b[0m\u001b[1;32m     11\u001b[0m \u001b[0;34m\u001b[0m\u001b[0m\n\u001b[1;32m     12\u001b[0m     \u001b[0mvisited\u001b[0m \u001b[0;34m=\u001b[0m \u001b[0mset\u001b[0m\u001b[0;34m(\u001b[0m\u001b[0;34m)\u001b[0m\u001b[0;34m\u001b[0m\u001b[0;34m\u001b[0m\u001b[0m\n",
      "\u001b[0;31mKeyError\u001b[0m: 'b'"
     ]
    }
   ],
   "source": [
    "from collections import defaultdict\n",
    "\n",
    "\n",
    "def components(graph):\n",
    "    transposed = defaultdict(list)\n",
    "    \n",
    "    for v in graph:\n",
    "        for w in graph[v]:\n",
    "            transposed[w].append(v)\n",
    "\n",
    "    visited = set()\n",
    "    nodes = []\n",
    "    components = defaultdict(set)\n",
    "    \n",
    "    def visit(v):\n",
    "        if v not in visited:\n",
    "            visited.add(v)\n",
    "            \n",
    "            for w in graph[v]:\n",
    "                visit(w)\n",
    "\n",
    "            nodes.insert(0, v)\n",
    "                \n",
    "    for v in graph:\n",
    "        visit(v)\n",
    "    \n",
    "    def assign(v, root):\n",
    "        if v in visited:\n",
    "            visited.remove(v)\n",
    "            \n",
    "            components[root].add(v)\n",
    "\n",
    "            for w in transposed[v]:\n",
    "                assign(w, root)      \n",
    "                \n",
    "       \n",
    "    for v in nodes:\n",
    "        assign(v, v)\n",
    "        \n",
    "    return list(components.values())\n",
    "\n",
    "\n",
    "components(graph)"
   ]
  },
  {
   "cell_type": "code",
   "execution_count": 3,
   "metadata": {},
   "outputs": [],
   "source": [
    "import networkx as nx\n",
    "\n",
    "\n",
    "def nx_components(graph):\n",
    "    graph = nx.DiGraph(graph)\n",
    "\n",
    "    return list(nx.kosaraju_strongly_connected_components(graph))\n",
    "\n",
    "\n",
    "mine = components(graph)\n",
    "reference = nx_components(graph)\n",
    "\n",
    "assert len(mine) == len(reference)\n",
    "\n",
    "for component in mine:\n",
    "    assert component in reference"
   ]
  },
  {
   "cell_type": "markdown",
   "metadata": {},
   "source": [
    "## Tarjan's strongly connected components algorithm\n",
    "\n",
    "[Wikipedia](https://en.wikipedia.org/wiki/Tarjan%27s_strongly_connected_components_algorithm) | [NetworkX Implementation](https://networkx.org/documentation/stable/_modules/networkx/algorithms/components/strongly_connected.html#strongly_connected_components)"
   ]
  },
  {
   "cell_type": "code",
   "execution_count": 4,
   "metadata": {},
   "outputs": [
    {
     "data": {
      "text/plain": [
       "[{'f', 'g'}, {'c', 'd', 'h'}, {'a', 'b', 'e'}]"
      ]
     },
     "execution_count": 4,
     "metadata": {},
     "output_type": "execute_result"
    }
   ],
   "source": [
    "from collections import defaultdict\n",
    "\n",
    "\n",
    "def components(graph):\n",
    "    index = 0            \n",
    "    indexes = {}\n",
    "    low_links = {}\n",
    "    stack = []\n",
    "    components = []\n",
    "\n",
    "    def dfs(v):\n",
    "        nonlocal index\n",
    "        \n",
    "        indexes[v] = low_links[v] = index\n",
    "        index += 1\n",
    "\n",
    "        stack.append(v)\n",
    "        \n",
    "        for w in graph[v]:\n",
    "            if w not in indexes:\n",
    "                dfs(w)\n",
    "                low_links[v] = min(low_links[v], low_links[w])\n",
    "            elif w in stack:\n",
    "                low_links[v] = min(low_links[v], indexes[w])\n",
    "                \n",
    "        if low_links[v] == indexes[v]:\n",
    "            component = set()\n",
    "            w = None\n",
    "\n",
    "            while w != v:\n",
    "                w = stack.pop()\n",
    "                component.add(w)\n",
    "\n",
    "            components.append(component)\n",
    "            \n",
    "    for v in graph:\n",
    "        if v not in indexes:\n",
    "            dfs(v)\n",
    "            \n",
    "    return components\n",
    "\n",
    "\n",
    "components(graph)"
   ]
  },
  {
   "cell_type": "code",
   "execution_count": 5,
   "metadata": {},
   "outputs": [],
   "source": [
    "import networkx as nx\n",
    "\n",
    "\n",
    "def nx_components(graph):\n",
    "    graph = nx.DiGraph(graph)\n",
    "        \n",
    "    return list(nx.strongly_connected_components(graph))\n",
    "\n",
    "\n",
    "mine = components(graph)\n",
    "reference = nx_components(graph)\n",
    "\n",
    "assert len(mine) == len(reference)\n",
    "\n",
    "for component in mine:\n",
    "    assert component in reference"
   ]
  }
 ],
 "metadata": {
  "kernelspec": {
   "display_name": "Python 3",
   "language": "python",
   "name": "python3"
  },
  "language_info": {
   "codemirror_mode": {
    "name": "ipython",
    "version": 3
   },
   "file_extension": ".py",
   "mimetype": "text/x-python",
   "name": "python",
   "nbconvert_exporter": "python",
   "pygments_lexer": "ipython3",
   "version": "3.9.0"
  }
 },
 "nbformat": 4,
 "nbformat_minor": 4
}
