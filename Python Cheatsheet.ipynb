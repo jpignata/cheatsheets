{
 "cells": [
  {
   "cell_type": "markdown",
   "metadata": {},
   "source": [
    "# Python Cheatsheet"
   ]
  },
  {
   "cell_type": "markdown",
   "metadata": {},
   "source": [
    "## Regular Expressions\n",
    "\n",
    "[Docs](https://docs.python.org/3/library/re.html)"
   ]
  },
  {
   "cell_type": "code",
   "execution_count": 1,
   "metadata": {},
   "outputs": [],
   "source": [
    "import re"
   ]
  },
  {
   "cell_type": "markdown",
   "metadata": {},
   "source": [
    "### Search for a match\n",
    "\n",
    "- [**search**](https://docs.python.org/3/library/re.html#re.search) find for the first match for the pattern\n",
    "- [**match**](https://docs.python.org/3/library/re.html#re.match) find a match in the beginning of the string\n",
    "- [**fullmatch**](https://docs.python.org/3/library/re.html#re.fullmatch) find a match over the entire string"
   ]
  },
  {
   "cell_type": "code",
   "execution_count": 2,
   "metadata": {},
   "outputs": [],
   "source": [
    "contents = 'set the controls for the heart of the sun'\n",
    "methods = re.match, re.search, re.fullmatch"
   ]
  },
  {
   "cell_type": "code",
   "execution_count": 3,
   "metadata": {
    "scrolled": true
   },
   "outputs": [
    {
     "name": "stdout",
     "output_type": "stream",
     "text": [
      "<re.Match object; span=(0, 3), match='set'>\n",
      "<re.Match object; span=(0, 3), match='set'>\n",
      "None\n"
     ]
    }
   ],
   "source": [
    "match = re.match(r'set', contents)\n",
    "search = re.search(r'set', contents)\n",
    "fullmatch = re.fullmatch(r'set', contents)\n",
    "\n",
    "print(match, search, fullmatch, sep='\\n')"
   ]
  },
  {
   "cell_type": "code",
   "execution_count": 4,
   "metadata": {},
   "outputs": [
    {
     "name": "stdout",
     "output_type": "stream",
     "text": [
      "None\n",
      "<re.Match object; span=(8, 16), match='controls'>\n",
      "None\n"
     ]
    }
   ],
   "source": [
    "match = re.match(r'controls', contents)\n",
    "search = re.search(r'controls', contents)\n",
    "fullmatch = re.fullmatch(r'controls', contents)\n",
    "\n",
    "print(match, search, fullmatch, sep='\\n')"
   ]
  },
  {
   "cell_type": "code",
   "execution_count": 5,
   "metadata": {},
   "outputs": [
    {
     "name": "stdout",
     "output_type": "stream",
     "text": [
      "<re.Match object; span=(0, 41), match='set the controls for the heart of the sun'>\n",
      "<re.Match object; span=(0, 41), match='set the controls for the heart of the sun'>\n",
      "<re.Match object; span=(0, 41), match='set the controls for the heart of the sun'>\n"
     ]
    }
   ],
   "source": [
    "match = re.match(r'[\\w ]+', contents)\n",
    "search = re.search(r'[\\w ]+', contents)\n",
    "fullmatch = re.fullmatch(r'[\\w ]+', contents)\n",
    "\n",
    "print(match, search, fullmatch, sep='\\n')"
   ]
  },
  {
   "cell_type": "markdown",
   "metadata": {},
   "source": [
    "### Extract all matches from a string\n",
    "\n",
    "- [**findall**](https://docs.python.org/3/library/re.html#re.findall) - Return all matches of pattern in string, as a list of strings. If capture groups are used matches are returned as a tuple of strings.\n",
    "- [**split**](https://docs.python.org/3/library/re.html#re.split) - Split string by the occurrences of pattern\n",
    "- [**finditer**](https://docs.python.org/3/library/re.html#re.finditer) - Return an iterator of all match objects"
   ]
  },
  {
   "cell_type": "code",
   "execution_count": 6,
   "metadata": {},
   "outputs": [],
   "source": [
    "numbers = '33,2, -56,5,77,4,3, 5,  7765,32'\n",
    "fields = \"\"\"\n",
    "name: John Doe\n",
    "age: 32\n",
    "address: 121 Main Street\n",
    "\"\"\""
   ]
  },
  {
   "cell_type": "code",
   "execution_count": 7,
   "metadata": {},
   "outputs": [
    {
     "data": {
      "text/plain": [
       "['33', '2', '-56', '5', '77', '4', '3', '5', '7765', '32']"
      ]
     },
     "execution_count": 7,
     "metadata": {},
     "output_type": "execute_result"
    }
   ],
   "source": [
    "re.findall(r'-{,1}\\d+', numbers)"
   ]
  },
  {
   "cell_type": "code",
   "execution_count": 8,
   "metadata": {},
   "outputs": [
    {
     "data": {
      "text/plain": [
       "['33', '2', '-56', '5', '77', '4', '3', '5', '7765', '32']"
      ]
     },
     "execution_count": 8,
     "metadata": {},
     "output_type": "execute_result"
    }
   ],
   "source": [
    "re.split(r', *', numbers)"
   ]
  },
  {
   "cell_type": "code",
   "execution_count": 9,
   "metadata": {},
   "outputs": [
    {
     "data": {
      "text/plain": [
       "[('name', 'John Doe'), ('age', '32'), ('address', '121 Main Street')]"
      ]
     },
     "execution_count": 9,
     "metadata": {},
     "output_type": "execute_result"
    }
   ],
   "source": [
    "re.findall('(\\w+): ([\\d\\w ]+)', fields)"
   ]
  },
  {
   "cell_type": "code",
   "execution_count": 10,
   "metadata": {},
   "outputs": [
    {
     "name": "stdout",
     "output_type": "stream",
     "text": [
      "Field: name\n",
      "Value: John Doe\n",
      "\n",
      "Field: age\n",
      "Value: 32\n",
      "\n",
      "Field: address\n",
      "Value: 121 Main Street\n",
      "\n"
     ]
    }
   ],
   "source": [
    "for match in re.finditer('(\\w+): ([\\d\\w ]+)', fields):\n",
    "    print(match.expand('Field: \\\\1\\nValue: \\\\2\\n'))"
   ]
  },
  {
   "cell_type": "markdown",
   "metadata": {},
   "source": [
    "### Substitute matches in a string"
   ]
  },
  {
   "cell_type": "code",
   "execution_count": 11,
   "metadata": {},
   "outputs": [
    {
     "data": {
      "text/plain": [
       "'Hzzz Azzzz 2'"
      ]
     },
     "execution_count": 11,
     "metadata": {},
     "output_type": "execute_result"
    }
   ],
   "source": [
    "re.sub(r'[a-z]', 'z', 'Home Alone 2')"
   ]
  },
  {
   "cell_type": "code",
   "execution_count": 12,
   "metadata": {},
   "outputs": [
    {
     "data": {
      "text/plain": [
       "'Hzme Alone 2'"
      ]
     },
     "execution_count": 12,
     "metadata": {},
     "output_type": "execute_result"
    }
   ],
   "source": [
    "re.sub(r'[a-z]', 'z', 'Home Alone 2', count=1)"
   ]
  },
  {
   "cell_type": "code",
   "execution_count": 13,
   "metadata": {},
   "outputs": [
    {
     "data": {
      "text/plain": [
       "('zzzz zzzzz 2', 9)"
      ]
     },
     "execution_count": 13,
     "metadata": {},
     "output_type": "execute_result"
    }
   ],
   "source": [
    "re.subn(r'[a-zA-Z]', 'z', 'Home Alone 2') # returns (new string, number of replacements)"
   ]
  },
  {
   "cell_type": "markdown",
   "metadata": {},
   "source": [
    "## Memoization"
   ]
  },
  {
   "cell_type": "code",
   "execution_count": 14,
   "metadata": {},
   "outputs": [
    {
     "name": "stdout",
     "output_type": "stream",
     "text": [
      "12.1 µs ± 19.9 ns per loop (mean ± std. dev. of 7 runs, 100000 loops each)\n",
      "12.1 µs ± 9.51 ns per loop (mean ± std. dev. of 7 runs, 100000 loops each)\n"
     ]
    }
   ],
   "source": [
    "from functools import cache\n",
    "\n",
    "\n",
    "def fib(n):\n",
    "    if n < 2:\n",
    "        return 1\n",
    "    \n",
    "    return fib(n - 1) + fib(n - 2)\n",
    "\n",
    "\n",
    "%timeit fib(10)\n",
    "\n",
    "\n",
    "@cache\n",
    "def cache(n):\n",
    "    if n < 2:\n",
    "        return 1\n",
    "    \n",
    "    return fib(n - 1) + fib(n - 2)\n",
    "\n",
    "\n",
    "%timeit fib(10)"
   ]
  },
  {
   "cell_type": "markdown",
   "metadata": {},
   "source": [
    "## Lists"
   ]
  },
  {
   "cell_type": "markdown",
   "metadata": {},
   "source": [
    "### Reverse"
   ]
  },
  {
   "cell_type": "code",
   "execution_count": 15,
   "metadata": {},
   "outputs": [
    {
     "name": "stdout",
     "output_type": "stream",
     "text": [
      "[9, 8, 7, 6, 5, 4, 3, 2, 1]\n"
     ]
    }
   ],
   "source": [
    "l = [1, 2, 3, 4, 5, 6, 7, 8, 9]\n",
    "\n",
    "print(l[::-1])"
   ]
  },
  {
   "cell_type": "markdown",
   "metadata": {},
   "source": [
    "### Copy"
   ]
  },
  {
   "cell_type": "code",
   "execution_count": 16,
   "metadata": {},
   "outputs": [
    {
     "name": "stdout",
     "output_type": "stream",
     "text": [
      "Original: [1, 2, 3, 4, 5, 6, 7, 8, 9]\n",
      "Copy: [1, 2, 3, 4, 5, 6, 7, 8]\n"
     ]
    }
   ],
   "source": [
    "l = [1, 2, 3, 4, 5, 6, 7, 8, 9]\n",
    "nl = l[:]\n",
    "nl.pop()\n",
    "\n",
    "print('Original:', l)\n",
    "print('Copy:', nl)"
   ]
  },
  {
   "cell_type": "markdown",
   "metadata": {},
   "source": [
    "### Flatten nested list"
   ]
  },
  {
   "cell_type": "code",
   "execution_count": 17,
   "metadata": {},
   "outputs": [
    {
     "name": "stdout",
     "output_type": "stream",
     "text": [
      "[1, 2, 3, 4, 5, 6]\n"
     ]
    }
   ],
   "source": [
    "groups = [[1, 2], [3, 4], [5, 6]]\n",
    "flattened = [number for group in groups for number in group]\n",
    "\n",
    "print(flattened)"
   ]
  },
  {
   "cell_type": "markdown",
   "metadata": {},
   "source": [
    "### Flatten irregular nested list"
   ]
  },
  {
   "cell_type": "code",
   "execution_count": 18,
   "metadata": {},
   "outputs": [
    {
     "name": "stdout",
     "output_type": "stream",
     "text": [
      "[1, 'abc', 2, 3, 4, 5, 'xyz', 6, 7, 8, 9]\n"
     ]
    }
   ],
   "source": [
    "from collections.abc import Sequence\n",
    "\n",
    "\n",
    "def flatten(l):\n",
    "    while (l := list(l)):\n",
    "        if isinstance(l[0], Sequence) and not isinstance(l[0], (str, bytes)):\n",
    "            l[0:1] = l[0]\n",
    "        else:\n",
    "            yield l.pop(0)\n",
    "\n",
    "\n",
    "irregular = [1, ['abc', [2, 3, [4, 5, ['xyz'], 6]], [7, [8], [[[9]]]]]]\n",
    "flattened = list(flatten(irregular))\n",
    "\n",
    "print(flattened)"
   ]
  },
  {
   "cell_type": "markdown",
   "metadata": {},
   "source": [
    "## Matrices"
   ]
  },
  {
   "cell_type": "code",
   "execution_count": 19,
   "metadata": {},
   "outputs": [
    {
     "name": "stdout",
     "output_type": "stream",
     "text": [
      "  1  2  3  4\n",
      "  5  6  7  8\n",
      "  9 10 11 12\n",
      " 13 14 15 16\n"
     ]
    }
   ],
   "source": [
    "def pp(matrix):\n",
    "    width = max(len(str(cell)) for row in matrix for cell in row) + 1\n",
    "    \n",
    "    for row in matrix:\n",
    "        for cell in row:\n",
    "            print(str(cell).rjust(width), end='')\n",
    "            \n",
    "        print()\n",
    "\n",
    "        \n",
    "grid = [[1, 2, 3, 4], [5, 6, 7, 8], [9, 10, 11, 12], [13, 14, 15, 16]]\n",
    "\n",
    "pp(grid)"
   ]
  },
  {
   "cell_type": "markdown",
   "metadata": {},
   "source": [
    "### Copy"
   ]
  },
  {
   "cell_type": "code",
   "execution_count": 20,
   "metadata": {},
   "outputs": [
    {
     "name": "stdout",
     "output_type": "stream",
     "text": [
      "Original:\n",
      "  1  2  3  4\n",
      "  5  6  7  8\n",
      "  9 10 11 12\n",
      " 13 14 15 16\n",
      "\n",
      "Copy:\n",
      " 99  2  3 99\n",
      "  5  6  7  8\n",
      "  9 10 11 12\n",
      " 99 14 15 99\n"
     ]
    }
   ],
   "source": [
    "copy = [row[:] for row in grid]\n",
    "copy[0][0] = '99'\n",
    "copy[0][-1] = '99'\n",
    "copy[3][0] = '99'\n",
    "copy[3][-1] = '99'\n",
    "\n",
    "print('Original:')\n",
    "pp(grid)\n",
    "\n",
    "print()\n",
    "\n",
    "print('Copy:')\n",
    "pp(copy)"
   ]
  },
  {
   "cell_type": "markdown",
   "metadata": {},
   "source": [
    "### Flip Horizontally"
   ]
  },
  {
   "cell_type": "code",
   "execution_count": 21,
   "metadata": {},
   "outputs": [
    {
     "name": "stdout",
     "output_type": "stream",
     "text": [
      "  4  3  2  1\n",
      "  8  7  6  5\n",
      " 12 11 10  9\n",
      " 16 15 14 13\n"
     ]
    }
   ],
   "source": [
    "flipped = [row[::-1] for row in grid]\n",
    "\n",
    "pp(flipped)"
   ]
  },
  {
   "cell_type": "markdown",
   "metadata": {},
   "source": [
    "### Flip Vertically"
   ]
  },
  {
   "cell_type": "code",
   "execution_count": 22,
   "metadata": {},
   "outputs": [
    {
     "name": "stdout",
     "output_type": "stream",
     "text": [
      " 13 14 15 16\n",
      "  9 10 11 12\n",
      "  5  6  7  8\n",
      "  1  2  3  4\n"
     ]
    }
   ],
   "source": [
    "flipped = grid[::-1]\n",
    "\n",
    "pp(flipped)"
   ]
  },
  {
   "cell_type": "markdown",
   "metadata": {},
   "source": [
    "### Rotate clockwise"
   ]
  },
  {
   "cell_type": "code",
   "execution_count": 23,
   "metadata": {
    "scrolled": true
   },
   "outputs": [
    {
     "name": "stdout",
     "output_type": "stream",
     "text": [
      " 13  9  5  1\n",
      " 14 10  6  2\n",
      " 15 11  7  3\n",
      " 16 12  8  4\n"
     ]
    }
   ],
   "source": [
    "rotated = [list(row) for row in zip(*grid[::-1])]\n",
    "    \n",
    "pp(rotated)"
   ]
  },
  {
   "cell_type": "markdown",
   "metadata": {},
   "source": [
    "### Rotate counterclockwise"
   ]
  },
  {
   "cell_type": "code",
   "execution_count": 24,
   "metadata": {
    "scrolled": false
   },
   "outputs": [
    {
     "name": "stdout",
     "output_type": "stream",
     "text": [
      "  4  8 12 16\n",
      "  3  7 11 15\n",
      "  2  6 10 14\n",
      "  1  5  9 13\n"
     ]
    }
   ],
   "source": [
    "rotated = [list(row) for row in zip(*grid)][::-1]\n",
    "    \n",
    "pp(rotated)"
   ]
  },
  {
   "cell_type": "markdown",
   "metadata": {},
   "source": [
    "## Sequences"
   ]
  },
  {
   "cell_type": "markdown",
   "metadata": {},
   "source": [
    "### 8-way adjacent neighbors"
   ]
  },
  {
   "cell_type": "code",
   "execution_count": 25,
   "metadata": {},
   "outputs": [
    {
     "data": {
      "text/plain": [
       "[(-1, -1), (-1, 0), (-1, 1), (0, -1), (0, 1), (1, -1), (1, 0), (1, 1)]"
      ]
     },
     "execution_count": 25,
     "metadata": {},
     "output_type": "execute_result"
    }
   ],
   "source": [
    "from itertools import product\n",
    "\n",
    "list(xy for xy in product((-1, 0, 1), repeat=2) if any (xy))"
   ]
  },
  {
   "cell_type": "markdown",
   "metadata": {},
   "source": [
    "### Turn clockwise"
   ]
  },
  {
   "cell_type": "code",
   "execution_count": 26,
   "metadata": {},
   "outputs": [
    {
     "name": "stdout",
     "output_type": "stream",
     "text": [
      "(0, -1)\n",
      "(1, 0)\n",
      "(0, 1)\n",
      "(-1, 0)\n"
     ]
    }
   ],
   "source": [
    "x, y = 0, -1\n",
    "\n",
    "for _ in range(4):\n",
    "    print((x, y))\n",
    "    x, y = -y, x"
   ]
  },
  {
   "cell_type": "markdown",
   "metadata": {},
   "source": [
    "### Turn counterclockwise"
   ]
  },
  {
   "cell_type": "code",
   "execution_count": 27,
   "metadata": {},
   "outputs": [
    {
     "name": "stdout",
     "output_type": "stream",
     "text": [
      "(0, -1)\n",
      "(-1, 0)\n",
      "(0, 1)\n",
      "(1, 0)\n"
     ]
    }
   ],
   "source": [
    "x, y = 0, -1\n",
    "\n",
    "for _ in range(4):\n",
    "    print((x, y))\n",
    "    x, y = y, -x"
   ]
  },
  {
   "cell_type": "markdown",
   "metadata": {},
   "source": [
    "## Itertools\n",
    "\n",
    "[Docs](https://docs.python.org/3/library/itertools.html)"
   ]
  },
  {
   "cell_type": "markdown",
   "metadata": {},
   "source": [
    "### Repeat\n",
    "\n",
    "Returns the given element either up to the given number of times or forever."
   ]
  },
  {
   "cell_type": "code",
   "execution_count": 28,
   "metadata": {},
   "outputs": [
    {
     "name": "stdout",
     "output_type": "stream",
     "text": [
      "10 10 10 10 10 10 10 10 10 10 "
     ]
    }
   ],
   "source": [
    "from itertools import repeat\n",
    "\n",
    "iterator = repeat(10)\n",
    "\n",
    "for _ in range(10):\n",
    "    print(next(iterator), end=' ')"
   ]
  },
  {
   "cell_type": "code",
   "execution_count": 29,
   "metadata": {},
   "outputs": [
    {
     "name": "stdout",
     "output_type": "stream",
     "text": [
      "10 10 10 "
     ]
    }
   ],
   "source": [
    "iterator = repeat(10, 3)\n",
    "\n",
    "while num := next(iterator, None):\n",
    "    print(num, end=' ')"
   ]
  },
  {
   "cell_type": "markdown",
   "metadata": {},
   "source": [
    "### Cycle\n",
    "\n",
    "Returns all items from a iterable in a loop forever."
   ]
  },
  {
   "cell_type": "code",
   "execution_count": 30,
   "metadata": {},
   "outputs": [
    {
     "name": "stdout",
     "output_type": "stream",
     "text": [
      "n s e w n s e w n s "
     ]
    }
   ],
   "source": [
    "from itertools import cycle\n",
    "\n",
    "iterator = cycle(('n', 's', 'e', 'w'))\n",
    "\n",
    "for _ in range(10):\n",
    "    print(next(iterator), end=' ')"
   ]
  },
  {
   "cell_type": "markdown",
   "metadata": {},
   "source": [
    "### Tee\n",
    "\n",
    "Splits an iterable into n independent iterators like unix `tee`."
   ]
  },
  {
   "cell_type": "code",
   "execution_count": 31,
   "metadata": {},
   "outputs": [
    {
     "data": {
      "text/plain": [
       "7"
      ]
     },
     "execution_count": 31,
     "metadata": {},
     "output_type": "execute_result"
    }
   ],
   "source": [
    "from itertools import tee\n",
    "\n",
    "\n",
    "def middle(iterable):\n",
    "    \"\"\"\n",
    "    Uses `tee` to iterate through sn iterable with a slow and fast cursor. This\n",
    "    allows it to return the middle without reading the entire iterable into memory.\n",
    "    \"\"\"\n",
    "    islow, ifast = tee(iterable)\n",
    "\n",
    "    while True:\n",
    "        slow = next(islow)\n",
    "        \n",
    "        for _ in range(2):\n",
    "            fast = next(ifast, None)\n",
    "\n",
    "            if fast is None:\n",
    "                return slow\n",
    "\n",
    "        \n",
    "middle(range(14))"
   ]
  },
  {
   "cell_type": "markdown",
   "metadata": {},
   "source": [
    "### Product\n",
    "\n",
    "Returns the cartesian product of the given iterables. This is useful for generating sequences such as the [8-way adjacent neighbors of a cell on an NxM matrix](#8-way-adjacent-neighbors) or all possible 4 digit PINs:"
   ]
  },
  {
   "cell_type": "code",
   "execution_count": 32,
   "metadata": {},
   "outputs": [
    {
     "data": {
      "text/plain": [
       "10000"
      ]
     },
     "execution_count": 32,
     "metadata": {},
     "output_type": "execute_result"
    }
   ],
   "source": [
    "from itertools import product\n",
    "\n",
    "len(list(product(range(10), repeat=4)))"
   ]
  }
 ],
 "metadata": {
  "kernelspec": {
   "display_name": "Python 3",
   "language": "python",
   "name": "python3"
  },
  "language_info": {
   "codemirror_mode": {
    "name": "ipython",
    "version": 3
   },
   "file_extension": ".py",
   "mimetype": "text/x-python",
   "name": "python",
   "nbconvert_exporter": "python",
   "pygments_lexer": "ipython3",
   "version": "3.9.0+"
  }
 },
 "nbformat": 4,
 "nbformat_minor": 4
}
