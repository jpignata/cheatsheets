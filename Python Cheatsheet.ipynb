{
 "cells": [
  {
   "cell_type": "markdown",
   "metadata": {},
   "source": [
    "# Incantations"
   ]
  },
  {
   "cell_type": "markdown",
   "metadata": {},
   "source": [
    "## Flatten a nested list"
   ]
  },
  {
   "cell_type": "code",
   "execution_count": 1,
   "metadata": {},
   "outputs": [
    {
     "name": "stdout",
     "output_type": "stream",
     "text": [
      "[1, 2, 3, 4, 5, 6]\n"
     ]
    }
   ],
   "source": [
    "groups = [[1, 2], [3, 4], [5, 6]]\n",
    "flattened = [number for group in groups for number in group]\n",
    "\n",
    "print(flattened)"
   ]
  },
  {
   "cell_type": "markdown",
   "metadata": {},
   "source": [
    "## Flatten an irregular nested list"
   ]
  },
  {
   "cell_type": "code",
   "execution_count": 2,
   "metadata": {},
   "outputs": [
    {
     "name": "stdout",
     "output_type": "stream",
     "text": [
      "[1, 'abc', 2, 3, 4, 5, 'xyz', 6, 7, 8, 9]\n"
     ]
    }
   ],
   "source": [
    "from collections.abc import Sequence\n",
    "\n",
    "\n",
    "def flatten(l):\n",
    "    while (l := list(l)):\n",
    "        if isinstance(l[0], Sequence) and not isinstance(l[0], (str, bytes)):\n",
    "            l[0:1] = l[0]\n",
    "        else:\n",
    "            yield l.pop(0)\n",
    "\n",
    "\n",
    "irregular = [1, ['abc', [2, 3, [4, 5, ['xyz'], 6]], [7, [8], [[[9]]]]]]\n",
    "\n",
    "print(list(flatten(irregular)))"
   ]
  },
  {
   "cell_type": "markdown",
   "metadata": {},
   "source": [
    "## Matrices"
   ]
  },
  {
   "cell_type": "code",
   "execution_count": 3,
   "metadata": {},
   "outputs": [
    {
     "name": "stdout",
     "output_type": "stream",
     "text": [
      "  1  2  3  4\n",
      "  5  6  7  8\n",
      "  9 10 11 12\n",
      " 13 14 15 16\n"
     ]
    }
   ],
   "source": [
    "def pp(matrix):\n",
    "    width = max(len(str(cell)) for row in matrix for cell in row) + 1\n",
    "    \n",
    "    for row in matrix:\n",
    "        for cell in row:\n",
    "            print(str(cell).rjust(width), end='')\n",
    "            \n",
    "        print()\n",
    "\n",
    "        \n",
    "grid = [[1, 2, 3, 4], [5, 6, 7, 8], [9, 10, 11, 12], [13, 14, 15, 16]]\n",
    "\n",
    "pp(grid)"
   ]
  },
  {
   "cell_type": "markdown",
   "metadata": {},
   "source": [
    "### Flip Horizontally"
   ]
  },
  {
   "cell_type": "code",
   "execution_count": 4,
   "metadata": {},
   "outputs": [
    {
     "name": "stdout",
     "output_type": "stream",
     "text": [
      "  4  3  2  1\n",
      "  8  7  6  5\n",
      " 12 11 10  9\n",
      " 16 15 14 13\n"
     ]
    }
   ],
   "source": [
    "flipped = [row[::-1] for row in grid]\n",
    "\n",
    "pp(flipped)"
   ]
  },
  {
   "cell_type": "markdown",
   "metadata": {},
   "source": [
    "### Flip Vertically"
   ]
  },
  {
   "cell_type": "code",
   "execution_count": 5,
   "metadata": {},
   "outputs": [
    {
     "name": "stdout",
     "output_type": "stream",
     "text": [
      " 13 14 15 16\n",
      "  9 10 11 12\n",
      "  5  6  7  8\n",
      "  1  2  3  4\n"
     ]
    }
   ],
   "source": [
    "flipped = grid[::-1]\n",
    "\n",
    "pp(flipped)"
   ]
  },
  {
   "cell_type": "markdown",
   "metadata": {},
   "source": [
    "### Rotate clockwise"
   ]
  },
  {
   "cell_type": "code",
   "execution_count": 6,
   "metadata": {
    "scrolled": true
   },
   "outputs": [
    {
     "name": "stdout",
     "output_type": "stream",
     "text": [
      " 13  9  5  1\n",
      " 14 10  6  2\n",
      " 15 11  7  3\n",
      " 16 12  8  4\n"
     ]
    }
   ],
   "source": [
    "rotated = [list(row) for row in zip(*grid[::-1])]\n",
    "    \n",
    "pp(rotated)"
   ]
  },
  {
   "cell_type": "markdown",
   "metadata": {},
   "source": [
    "### Rotate counterclockwise"
   ]
  },
  {
   "cell_type": "code",
   "execution_count": 7,
   "metadata": {
    "scrolled": false
   },
   "outputs": [
    {
     "name": "stdout",
     "output_type": "stream",
     "text": [
      "  4  8 12 16\n",
      "  3  7 11 15\n",
      "  2  6 10 14\n",
      "  1  5  9 13\n"
     ]
    }
   ],
   "source": [
    "rotated = [list(row) for row in zip(*grid)][::-1]\n",
    "    \n",
    "pp(rotated)"
   ]
  },
  {
   "cell_type": "markdown",
   "metadata": {},
   "source": [
    "## Sequences"
   ]
  },
  {
   "cell_type": "markdown",
   "metadata": {},
   "source": [
    "### 8-way adjacent neighbors"
   ]
  },
  {
   "cell_type": "code",
   "execution_count": 8,
   "metadata": {},
   "outputs": [
    {
     "data": {
      "text/plain": [
       "[(-1, -1), (-1, 0), (-1, 1), (0, -1), (0, 1), (1, -1), (1, 0), (1, 1)]"
      ]
     },
     "execution_count": 8,
     "metadata": {},
     "output_type": "execute_result"
    }
   ],
   "source": [
    "from itertools import product\n",
    "\n",
    "list(xy for xy in product((-1, 0, 1), repeat=2) if any (xy))"
   ]
  },
  {
   "cell_type": "markdown",
   "metadata": {},
   "source": [
    "### Turn clockwise"
   ]
  },
  {
   "cell_type": "code",
   "execution_count": 9,
   "metadata": {},
   "outputs": [
    {
     "name": "stdout",
     "output_type": "stream",
     "text": [
      "(0, -1)\n",
      "(1, 0)\n",
      "(0, 1)\n",
      "(-1, 0)\n"
     ]
    }
   ],
   "source": [
    "x, y = 0, -1\n",
    "\n",
    "for _ in range(4):\n",
    "    print((x, y))\n",
    "    x, y = -y, x"
   ]
  },
  {
   "cell_type": "markdown",
   "metadata": {},
   "source": [
    "### Turn counterclockwise"
   ]
  },
  {
   "cell_type": "code",
   "execution_count": 10,
   "metadata": {},
   "outputs": [
    {
     "name": "stdout",
     "output_type": "stream",
     "text": [
      "(0, -1)\n",
      "(-1, 0)\n",
      "(0, 1)\n",
      "(1, 0)\n"
     ]
    }
   ],
   "source": [
    "x, y = 0, -1\n",
    "\n",
    "for _ in range(4):\n",
    "    print((x, y))\n",
    "    x, y = y, -x"
   ]
  }
 ],
 "metadata": {
  "kernelspec": {
   "display_name": "Python 3",
   "language": "python",
   "name": "python3"
  },
  "language_info": {
   "codemirror_mode": {
    "name": "ipython",
    "version": 3
   },
   "file_extension": ".py",
   "mimetype": "text/x-python",
   "name": "python",
   "nbconvert_exporter": "python",
   "pygments_lexer": "ipython3",
   "version": "3.9.0"
  }
 },
 "nbformat": 4,
 "nbformat_minor": 4
}
