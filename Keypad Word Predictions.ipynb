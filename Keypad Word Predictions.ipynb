{
 "cells": [
  {
   "cell_type": "markdown",
   "metadata": {},
   "source": [
    "# Keypad Word Predictions\n",
    "\n",
    "![](http://www.jasinskionline.com/technicalwiki/GetFile.aspx?Page=Telephone-Keypad&File=TelephoneKeypad.png)"
   ]
  },
  {
   "cell_type": "code",
   "execution_count": 15,
   "metadata": {},
   "outputs": [],
   "source": [
    "from __future__ import annotations\n",
    "from collections import deque\n",
    "from dataclasses import dataclass\n",
    "from string import ascii_lowercase\n",
    "from typing import List, Dict\n",
    "\n",
    "\n",
    "@dataclass\n",
    "class Node:\n",
    "    words: List[str]\n",
    "    children: Dict[str, Node]\n",
    "\n",
    "\n",
    "def build(filename: str) -> Node:\n",
    "    groups = ['abc', 'def', 'ghi', 'jkl', 'mno', 'pqrs', 'tuv', 'wxyz']\n",
    "    chars = {char: str(i + 2) for i, group in enumerate(groups) for char in group}\n",
    "    root = Node([], {})\n",
    "\n",
    "    with open(filename) as word_file:\n",
    "        for line in word_file.readlines():\n",
    "            word = line.strip()\n",
    "            node = root\n",
    "\n",
    "            if not all(char in ascii_lowercase for char in word) or len(word) < 3:\n",
    "                continue\n",
    "\n",
    "            for char in word:\n",
    "                digit = chars[char]\n",
    "\n",
    "                if digit not in node.children:\n",
    "                    node.children[digit] = Node([], {})\n",
    "\n",
    "                node = node.children[digit]\n",
    "\n",
    "            node.words.append(word)\n",
    "\n",
    "    return root\n",
    "\n",
    "\n",
    "def find(node: Node, digits: str) -> List[str]:\n",
    "    words: List[str] = []\n",
    "\n",
    "    for digit in digits:\n",
    "        if digit not in node.children:\n",
    "            return []\n",
    "\n",
    "        node = node.children[digit]\n",
    "\n",
    "    queue = deque([node])\n",
    "\n",
    "    while queue and len(words) < 20:\n",
    "        node = queue.popleft()\n",
    "\n",
    "        words.extend(node.words)\n",
    "        queue.extend(node.children.values())\n",
    "\n",
    "    return words"
   ]
  },
  {
   "cell_type": "code",
   "execution_count": 16,
   "metadata": {},
   "outputs": [],
   "source": [
    "dictionary = build('/usr/share/dict/words')"
   ]
  },
  {
   "cell_type": "code",
   "execution_count": 17,
   "metadata": {},
   "outputs": [
    {
     "data": {
      "text/plain": [
       "['the',\n",
       " 'tie',\n",
       " 'vie',\n",
       " 'thee',\n",
       " 'tide',\n",
       " 'tied',\n",
       " 'tiff',\n",
       " 'vied',\n",
       " 'them',\n",
       " 'then',\n",
       " 'tier',\n",
       " 'ties',\n",
       " 'vies',\n",
       " 'they',\n",
       " 'tidy',\n",
       " 'view',\n",
       " 'tidal',\n",
       " 'thees',\n",
       " 'tides',\n",
       " 'tiffs']"
      ]
     },
     "execution_count": 17,
     "metadata": {},
     "output_type": "execute_result"
    }
   ],
   "source": [
    "find(dictionary, '843')"
   ]
  },
  {
   "cell_type": "code",
   "execution_count": 18,
   "metadata": {},
   "outputs": [
    {
     "data": {
      "text/plain": [
       "['theater', 'theatre', 'theaters', 'theatres', 'theatrical', 'theatrically']"
      ]
     },
     "execution_count": 18,
     "metadata": {},
     "output_type": "execute_result"
    }
   ],
   "source": [
    "find(dictionary, '84328')"
   ]
  }
 ],
 "metadata": {
  "kernelspec": {
   "display_name": "Python 3",
   "language": "python",
   "name": "python3"
  },
  "language_info": {
   "codemirror_mode": {
    "name": "ipython",
    "version": 3
   },
   "file_extension": ".py",
   "mimetype": "text/x-python",
   "name": "python",
   "nbconvert_exporter": "python",
   "pygments_lexer": "ipython3",
   "version": "3.9.0+"
  }
 },
 "nbformat": 4,
 "nbformat_minor": 4
}
